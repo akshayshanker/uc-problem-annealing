{
 "cells": [
  {
   "cell_type": "code",
   "execution_count": 134,
   "metadata": {},
   "outputs": [],
   "source": [
    "import dwave\n",
    "import dimod\n",
    "import neal\n",
    "import os\n",
    "from dwave.system import DWaveSampler, EmbeddingComposite, LeapHybridCQMSampler\n",
    "from dimod import BinaryQuadraticModel, ConstrainedQuadraticModel, Binary, Integer\n",
    "from neal import SimulatedAnnealingSampler\n",
    "os.environ['DWAVE_API_TOKEN'] = 'DEV-02d687c5521a014df6c14e8a3ae5694cb67d5a8f'\n",
    "\n",
    "import matplotlib.pyplot as plt\n",
    "from matplotlib.patches import Rectangle\n",
    "import seaborn as sns\n",
    "import numpy as np\n",
    "\n",
    "from pulp import *\n",
    "\n",
    "import sys\n",
    "sys.path.insert(0, '/Users/juanfrancisco/Desktop/uc/uc-problem-annealing/utils')\n",
    "from utils import get_index, get_generator_and_day\n",
    "from plots import plot_schedule"
   ]
  },
  {
   "attachments": {},
   "cell_type": "markdown",
   "metadata": {},
   "source": [
    "# Problem definition"
   ]
  },
  {
   "attachments": {},
   "cell_type": "markdown",
   "metadata": {},
   "source": [
    "This notebook gives a computational representation of the Constrained Quadratic Model (CQM) for the Unit Commitment (UC) problem for a plan operator that minimises the sum of total operating expenditure of generation across generation units and a demand shortfall penalty."
   ]
  },
  {
   "attachments": {},
   "cell_type": "markdown",
   "metadata": {},
   "source": [
    "**Variables**\n",
    "- N: number of power plants (n = 1, ..., N)\n",
    "- T: time periods (t = 1, ..., T)\n",
    "- i(n,t): composite index of size NT\n",
    "- x_i: binary vector of size NT indicating the state of power plant (x_00 = 0 -> off, x_00 = 1 -> on)\n",
    "- C_i: vector representing the cost of operating each power plant n at time t\n",
    "- D(t): demand for a time period\n",
    "- E_i: vector representing the efficiency of each power plant n at time t"
   ]
  },
  {
   "cell_type": "code",
   "execution_count": 251,
   "metadata": {},
   "outputs": [],
   "source": [
    "n_generators = 3\n",
    "n_hours = 4\n",
    "size = n_hours * n_generators\n",
    "\n",
    "C = np.random.randint(1, 11, size= size)     # cost of power plants at different hours\n",
    "E = np.random.randint(1, 11, size=size)     # efficiency of power plants at different times\n",
    "D = 20   # demand for a specific time period"
   ]
  },
  {
   "attachments": {},
   "cell_type": "markdown",
   "metadata": {},
   "source": [
    "# Constrained Quadratic Model"
   ]
  },
  {
   "cell_type": "code",
   "execution_count": 252,
   "metadata": {},
   "outputs": [],
   "source": [
    "# define a constrained quadratic model instance\n",
    "cqm = ConstrainedQuadraticModel()"
   ]
  },
  {
   "cell_type": "code",
   "execution_count": 253,
   "metadata": {},
   "outputs": [],
   "source": [
    "#define the variables\n",
    "x = {(n, t): Binary('x{}_{}'.format(n, t)) for n in range(n_generators) for t in range(n_hours)}"
   ]
  },
  {
   "cell_type": "code",
   "execution_count": 254,
   "metadata": {},
   "outputs": [],
   "source": [
    "#define the objective function\n",
    "objective = BinaryQuadraticModel('BINARY')\n",
    "for generator in range(n_generators):\n",
    "    for hour in range(n_hours):\n",
    "        index = get_index(generator, hour, n_hours)\n",
    "        objective.update(C[index] * x[generator, hour])\n",
    "cqm.set_objective(objective)"
   ]
  },
  {
   "cell_type": "code",
   "execution_count": 255,
   "metadata": {},
   "outputs": [
    {
     "data": {
      "text/plain": [
       "'energy_demand'"
      ]
     },
     "execution_count": 255,
     "metadata": {},
     "output_type": "execute_result"
    }
   ],
   "source": [
    "#define the contraints\n",
    "sum =  BinaryQuadraticModel('BINARY')\n",
    "for generator in range(n_generators):\n",
    "    for hour in range(n_hours):\n",
    "        index = get_index(generator, hour, n_hours)\n",
    "        sum += E[index] * x[generator, hour]\n",
    "cqm.add_constraint(sum >= D, label='energy_demand')"
   ]
  },
  {
   "cell_type": "code",
   "execution_count": 256,
   "metadata": {},
   "outputs": [
    {
     "data": {
      "text/plain": [
       "'4*x0_0 + 4*x0_1 + 2*x0_2 + 2*x0_3 + 5*x1_0 + 3*x1_1 + 7*x1_2 + 8*x1_3 + 8*x2_0 + x2_1 + 5*x2_2 + 8*x2_3 >= 20.0'"
      ]
     },
     "execution_count": 256,
     "metadata": {},
     "output_type": "execute_result"
    }
   ],
   "source": [
    "cqm.constraints['energy_demand'].to_polystring()"
   ]
  },
  {
   "cell_type": "code",
   "execution_count": 264,
   "metadata": {},
   "outputs": [
    {
     "data": {
      "text/plain": [
       "ObjectiveView({'x0_0': 9.0, 'x0_1': 7.0, 'x0_2': 10.0, 'x0_3': 6.0, 'x1_0': 9.0, 'x1_1': 7.0, 'x1_2': 6.0, 'x1_3': 9.0, 'x2_0': 2.0, 'x2_1': 7.0, 'x2_2': 10.0, 'x2_3': 7.0}, {}, 0.0, {'x0_0': 'BINARY', 'x0_1': 'BINARY', 'x0_2': 'BINARY', 'x0_3': 'BINARY', 'x1_0': 'BINARY', 'x1_1': 'BINARY', 'x1_2': 'BINARY', 'x1_3': 'BINARY', 'x2_0': 'BINARY', 'x2_1': 'BINARY', 'x2_2': 'BINARY', 'x2_3': 'BINARY'})"
      ]
     },
     "execution_count": 264,
     "metadata": {},
     "output_type": "execute_result"
    }
   ],
   "source": [
    "cqm.objective"
   ]
  },
  {
   "cell_type": "code",
   "execution_count": 216,
   "metadata": {},
   "outputs": [],
   "source": [
    "#sample \n",
    "sampler = LeapHybridCQMSampler()\n",
    "raw_sampleset = sampler.sample_cqm(cqm)\n",
    "sample = raw_sampleset.first"
   ]
  },
  {
   "cell_type": "code",
   "execution_count": 267,
   "metadata": {},
   "outputs": [
    {
     "name": "stdout",
     "output_type": "stream",
     "text": [
      " \n",
      "==============================BEST SAMPLE SET==============================\n",
      "  x0_0 x0_1 x0_10 x0_11 x0_2 x0_3 x0_4 x0_5 x0_6 ... x2_9 energy num_oc. ...\n",
      "0  0.0  0.0   0.0   0.0  0.0  0.0  0.0  0.0  1.0 ...  0.0    4.0       1 ...\n",
      "1  0.0  0.0   0.0   0.0  0.0  0.0  0.0  0.0  1.0 ...  0.0    4.0       1 ...\n",
      "2  0.0  0.0   0.0   0.0  0.0  0.0  0.0  0.0  1.0 ...  0.0    4.0       1 ...\n",
      "3  0.0  0.0   0.0   0.0  0.0  0.0  0.0  0.0  1.0 ...  0.0    4.0       1 ...\n",
      "4  0.0  0.0   0.0   0.0  0.0  0.0  0.0  0.0  1.0 ...  0.0    4.0       1 ...\n",
      "5  0.0  0.0   0.0   0.0  0.0  0.0  0.0  0.0  1.0 ...  0.0    4.0       1 ...\n",
      "6  0.0  0.0   0.0   0.0  0.0  0.0  0.0  0.0  1.0 ...  0.0    4.0       1 ...\n",
      "7  0.0  0.0   0.0   0.0  0.0  0.0  0.0  0.0  0.0 ...  0.0    4.0       1 ...\n",
      "8  0.0  0.0   0.0   0.0  0.0  0.0  0.0  0.0  0.0 ...  0.0    4.0       1 ...\n",
      "9  0.0  0.0   0.0   0.0  0.0  0.0  0.0  0.0  1.0 ...  0.0    4.0       1 ...\n",
      "['INTEGER', 10 rows, 10 samples, 36 variables]\n"
     ]
    }
   ],
   "source": [
    "feasible_sampleset = raw_sampleset.filter(lambda d: d.is_feasible)\n",
    "num_feasible = len(feasible_sampleset)\n",
    "if num_feasible > 0:\n",
    "    best_samples = \\\n",
    "        feasible_sampleset.truncate(min(10, num_feasible))\n",
    "else:\n",
    "    best_samples = raw_sampleset.truncate(10)\n",
    "\n",
    "print(\" \\n\" + \"=\" * 30 + \"BEST SAMPLE SET\" + \"=\" * 30)\n",
    "print(best_samples)\n",
    "\n",
    "best_sample = best_samples.first.sample"
   ]
  },
  {
   "cell_type": "code",
   "execution_count": 270,
   "metadata": {},
   "outputs": [
    {
     "data": {
      "text/plain": [
       "{'x0_0': 0.0,\n",
       " 'x0_1': 0.0,\n",
       " 'x0_10': 0.0,\n",
       " 'x0_11': 0.0,\n",
       " 'x0_2': 0.0,\n",
       " 'x0_3': 0.0,\n",
       " 'x0_4': 0.0,\n",
       " 'x0_5': 0.0,\n",
       " 'x0_6': 1.0,\n",
       " 'x0_7': 0.0,\n",
       " 'x0_8': 0.0,\n",
       " 'x0_9': 0.0,\n",
       " 'x1_0': 0.0,\n",
       " 'x1_1': 0.0,\n",
       " 'x1_10': 0.0,\n",
       " 'x1_11': 0.0,\n",
       " 'x1_2': 0.0,\n",
       " 'x1_3': 0.0,\n",
       " 'x1_4': 0.0,\n",
       " 'x1_5': 0.0,\n",
       " 'x1_6': 0.0,\n",
       " 'x1_7': 0.0,\n",
       " 'x1_8': 0.0,\n",
       " 'x1_9': 0.0,\n",
       " 'x2_0': 0.0,\n",
       " 'x2_1': 0.0,\n",
       " 'x2_10': 0.0,\n",
       " 'x2_11': 0.0,\n",
       " 'x2_2': 0.0,\n",
       " 'x2_3': 0.0,\n",
       " 'x2_4': 0.0,\n",
       " 'x2_5': 0.0,\n",
       " 'x2_6': 0.0,\n",
       " 'x2_7': 1.0,\n",
       " 'x2_8': 0.0,\n",
       " 'x2_9': 0.0}"
      ]
     },
     "execution_count": 270,
     "metadata": {},
     "output_type": "execute_result"
    }
   ],
   "source": [
    "best_sample"
   ]
  },
  {
   "cell_type": "code",
   "execution_count": 268,
   "metadata": {},
   "outputs": [],
   "source": [
    "#filtered_dict = {k: v for k, v in best_sample.items() if 'x' in str(k)}\n",
    "filtered_keys = [key for key, value in best_sample.items() if value == 1]\n",
    "completed_list = [item + '0' if len(item) == 2 else item for item in filtered_keys]\n",
    "quantum_solution = [(int(item.split('_')[0][1:]), int(item.split('_')[1])) for item in completed_list]"
   ]
  },
  {
   "attachments": {},
   "cell_type": "markdown",
   "metadata": {},
   "source": [
    "# Plot results"
   ]
  },
  {
   "cell_type": "code",
   "execution_count": 269,
   "metadata": {},
   "outputs": [
    {
     "data": {
      "image/png": "[encoded data removed]",
      "text/plain": [
       "<Figure size 640x480 with 1 Axes>"
      ]
     },
     "metadata": {},
     "output_type": "display_data"
    }
   ],
   "source": [
    "plot_schedule(quantum_solution, n_hours, n_generators, save_image=False, image_path=None)"
   ]
  },
  {
   "attachments": {},
   "cell_type": "markdown",
   "metadata": {},
   "source": [
    "# Classical implementation"
   ]
  },
  {
   "cell_type": "code",
   "execution_count": 257,
   "metadata": {},
   "outputs": [],
   "source": [
    "# Create a MILP problem\n",
    "prob = LpProblem(\"Unit_Commitment_Problem\", LpMinimize)"
   ]
  },
  {
   "cell_type": "code",
   "execution_count": 258,
   "metadata": {},
   "outputs": [],
   "source": [
    "# Decision variables\n",
    "x = LpVariable.dicts(\"x\", [(n, t) for n in range(n_generators) for t in range(n_hours)], cat=\"Binary\")"
   ]
  },
  {
   "cell_type": "code",
   "execution_count": 259,
   "metadata": {},
   "outputs": [],
   "source": [
    "# Objective function\n",
    "prob += lpSum([C[n * n_hours + t] * x[n, t] for n in range(n_generators) for t in range(n_hours)])"
   ]
  },
  {
   "cell_type": "code",
   "execution_count": 260,
   "metadata": {},
   "outputs": [],
   "source": [
    "# Constraint function\n",
    "prob += lpSum([E[n * n_hours + t] * x[n, t] for n in range(n_generators) for t in range(n_hours)]) >= D"
   ]
  },
  {
   "cell_type": "code",
   "execution_count": 263,
   "metadata": {},
   "outputs": [],
   "source": [
    "L = prob.objective"
   ]
  },
  {
   "cell_type": "code",
   "execution_count": 246,
   "metadata": {},
   "outputs": [
    {
     "name": "stdout",
     "output_type": "stream",
     "text": [
      "Welcome to the CBC MILP Solver \n",
      "Version: 2.10.3 \n",
      "Build Date: Dec 15 2019 \n",
      "\n",
      "command line - /Users/juanfrancisco/Desktop/uc/uc-problem-annealing/env/lib/python3.11/site-packages/pulp/solverdir/cbc/osx/64/cbc /var/folders/vy/v_4tg6t57js6cy8llt2tqdh80000gn/T/fcdc6aab9389403f917435ab40a0506b-pulp.mps timeMode elapsed branch printingOptions all solution /var/folders/vy/v_4tg6t57js6cy8llt2tqdh80000gn/T/fcdc6aab9389403f917435ab40a0506b-pulp.sol (default strategy 1)\n",
      "At line 2 NAME          MODEL\n",
      "At line 3 ROWS\n",
      "At line 6 COLUMNS\n",
      "At line 151 RHS\n",
      "At line 153 BOUNDS\n",
      "At line 190 ENDATA\n",
      "Problem MODEL has 1 rows, 36 columns and 36 elements\n",
      "Coin0008I MODEL read with 0 errors\n",
      "Option for timeMode changed from cpu to elapsed\n",
      "Continuous objective value is 4 - 0.00 seconds\n",
      "Cgl0004I processed model has 1 rows, 31 columns (31 integer (26 of which binary)) and 31 elements\n",
      "Cutoff increment increased from 1e-05 to 0.9999\n",
      "Cbc0038I Initial state - 0 integers unsatisfied sum - 0\n",
      "Cbc0038I Solution found of 4\n",
      "Cbc0038I Cleaned solution of 4\n",
      "Cbc0038I Before mini branch and bound, 31 integers at bound fixed and 0 continuous of which 1 were internal integer and 0 internal continuous\n",
      "Cbc0038I Mini branch and bound did not improve solution (0.02 seconds)\n",
      "Cbc0038I After 0.02 seconds - Feasibility pump exiting with objective of 4 - took 0.00 seconds\n",
      "Cbc0012I Integer solution of 4 found by feasibility pump after 0 iterations and 0 nodes (0.02 seconds)\n",
      "Cbc0001I Search completed - best objective 4, took 0 iterations and 0 nodes (0.02 seconds)\n",
      "Cbc0035I Maximum depth 0, 0 variables fixed on reduced cost\n",
      "Cuts at root node changed objective from 4 to 4\n",
      "Probing was tried 0 times and created 0 cuts of which 0 were active after adding rounds of cuts (0.000 seconds)\n",
      "Gomory was tried 0 times and created 0 cuts of which 0 were active after adding rounds of cuts (0.000 seconds)\n",
      "Knapsack was tried 0 times and created 0 cuts of which 0 were active after adding rounds of cuts (0.000 seconds)\n",
      "Clique was tried 0 times and created 0 cuts of which 0 were active after adding rounds of cuts (0.000 seconds)\n",
      "MixedIntegerRounding2 was tried 0 times and created 0 cuts of which 0 were active after adding rounds of cuts (0.000 seconds)\n",
      "FlowCover was tried 0 times and created 0 cuts of which 0 were active after adding rounds of cuts (0.000 seconds)\n",
      "TwoMirCuts was tried 0 times and created 0 cuts of which 0 were active after adding rounds of cuts (0.000 seconds)\n",
      "ZeroHalf was tried 0 times and created 0 cuts of which 0 were active after adding rounds of cuts (0.000 seconds)\n",
      "\n",
      "Result - Optimal solution found\n",
      "\n",
      "Objective value:                4.00000000\n",
      "Enumerated nodes:               0\n",
      "Total iterations:               0\n",
      "Time (CPU seconds):             0.00\n",
      "Time (Wallclock seconds):       0.02\n",
      "\n",
      "Option for printingOptions changed from normal to all\n",
      "Total time (CPU seconds):       0.00   (Wallclock seconds):       0.03\n",
      "\n"
     ]
    }
   ],
   "source": [
    "# Solve the problem\n",
    "prob.solve()\n",
    "\n",
    "# Check the solution status\n",
    "if LpStatus[prob.status] == 'Optimal':\n",
    "    # Retrieve the optimal solution\n",
    "    solution = {(n, t): value(x[n, t]) for n in range(n_generators) for t in range(n_hours)}\n",
    "    total_cost = value(prob.objective)\n",
    "\n",
    "else:\n",
    "    print(\"No feasible solution found.\")"
   ]
  },
  {
   "cell_type": "code",
   "execution_count": 247,
   "metadata": {},
   "outputs": [],
   "source": [
    "classical_solution = [(n, t) for (n, t), value in solution.items() if value == 1.0]"
   ]
  },
  {
   "cell_type": "code",
   "execution_count": 249,
   "metadata": {},
   "outputs": [
    {
     "data": {
      "text/plain": [
       "[(0, 6), (2, 7)]"
      ]
     },
     "execution_count": 249,
     "metadata": {},
     "output_type": "execute_result"
    }
   ],
   "source": [
    "classical_solution"
   ]
  },
  {
   "cell_type": "code",
   "execution_count": 248,
   "metadata": {},
   "outputs": [
    {
     "data": {
      "image/png": "[encoded data removed]",
      "text/plain": [
       "<Figure size 640x480 with 1 Axes>"
      ]
     },
     "metadata": {},
     "output_type": "display_data"
    }
   ],
   "source": [
    "plot_schedule(classical_solution, n_hours, n_generators, save_image=False, image_path=None)"
   ]
  },
  {
   "cell_type": "code",
   "execution_count": null,
   "metadata": {},
   "outputs": [],
   "source": []
  }
 ],
 "metadata": {
  "kernelspec": {
   "display_name": "env",
   "language": "python",
   "name": "python3"
  },
  "language_info": {
   "codemirror_mode": {
    "name": "ipython",
    "version": 3
   },
   "file_extension": ".py",
   "mimetype": "text/x-python",
   "name": "python",
   "nbconvert_exporter": "python",
   "pygments_lexer": "ipython3",
   "version": "3.11.2"
  },
  "orig_nbformat": 4
 },
 "nbformat": 4,
 "nbformat_minor": 2
}
