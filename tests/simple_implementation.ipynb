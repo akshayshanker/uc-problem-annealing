{
 "cells": [
  {
   "cell_type": "code",
   "execution_count": 3,
   "metadata": {},
   "outputs": [],
   "source": [
    "import dwave\n",
    "import dimod\n",
    "import neal\n",
    "import os\n",
    "from dwave.system import DWaveSampler, EmbeddingComposite, LeapHybridCQMSampler\n",
    "from dimod import BinaryQuadraticModel, ConstrainedQuadraticModel, Binary\n",
    "from neal import SimulatedAnnealingSampler\n",
    "os.environ['DWAVE_API_TOKEN'] = 'DEV-02d687c5521a014df6c14e8a3ae5694cb67d5a8f'\n",
    "\n",
    "import matplotlib.pyplot as plt\n",
    "from matplotlib.patches import Rectangle\n",
    "import seaborn as sns\n",
    "import numpy as np\n",
    "\n",
    "import sys\n",
    "sys.path.insert(0, '/Users/juanfrancisco/Desktop/uc/uc-problem-annealing/utils')\n",
    "from utils import get_index, get_generator_and_day\n",
    "from plots import plot_schedule"
   ]
  },
  {
   "attachments": {},
   "cell_type": "markdown",
   "metadata": {},
   "source": [
    "# Problem definition"
   ]
  },
  {
   "attachments": {},
   "cell_type": "markdown",
   "metadata": {},
   "source": [
    "This notebook gives a computational representation of the Constrained Quadratic Model (CQM) for the Unit Commitment (UC) problem for a plan operator that minimises the sum of total operating expenditure of generation across generation units and a demand shortfall penalty."
   ]
  },
  {
   "attachments": {},
   "cell_type": "markdown",
   "metadata": {},
   "source": [
    "**Variables**\n",
    "- N: number of power plants (n = 1, ..., N)\n",
    "- T: time periods (t = 1, ..., T)\n",
    "- i(n,t): composite index of size NT\n",
    "- x_i: binary vector of size NT indicating the state of power plant (x_00 = 0 -> off, x_00 = 1 -> on)\n",
    "- C_i: vector representing the cost of operating each power plant n at time t\n",
    "- D(t): demand for a time period\n",
    "- E_i: vector representing the efficiency of each power plant n at time t"
   ]
  },
  {
   "cell_type": "code",
   "execution_count": 4,
   "metadata": {},
   "outputs": [],
   "source": [
    "n_generators = 5\n",
    "n_hours = 12\n",
    "size = n_hours * n_generators\n",
    "\n",
    "C = np.random.randint(1, 11, size= size)     # cost of power plants at different hours\n",
    "E = np.random.randint(1, 11, size=size)     # efficiency of power plants at different times\n",
    "D = 10     # demand for a specific time period"
   ]
  },
  {
   "attachments": {},
   "cell_type": "markdown",
   "metadata": {},
   "source": [
    "# Constrained Quadratic Model"
   ]
  },
  {
   "cell_type": "code",
   "execution_count": 18,
   "metadata": {},
   "outputs": [],
   "source": [
    "# define a constrained quadratic model instance\n",
    "cqm = ConstrainedQuadraticModel()"
   ]
  },
  {
   "cell_type": "code",
   "execution_count": 19,
   "metadata": {},
   "outputs": [],
   "source": [
    "#define the variables\n",
    "x = {(n, t): Binary('x{}_{}'.format(n, t)) for n in range(n_generators) for t in range(n_hours)}"
   ]
  },
  {
   "cell_type": "code",
   "execution_count": 20,
   "metadata": {},
   "outputs": [],
   "source": [
    "#define the objective function\n",
    "for generator in range(n_generators):\n",
    "    for hour in range(n_hours):\n",
    "        index = get_index(generator, hour, n_hours)\n",
    "        cqm.set_objective(x[generator, hour] * C[index])"
   ]
  },
  {
   "cell_type": "code",
   "execution_count": 21,
   "metadata": {},
   "outputs": [
    {
     "data": {
      "text/plain": [
       "'c89d646'"
      ]
     },
     "execution_count": 21,
     "metadata": {},
     "output_type": "execute_result"
    }
   ],
   "source": [
    "#define the contraints\n",
    "sum = 0\n",
    "for hour in range(n_hours):\n",
    "    for generator in range(n_generators):\n",
    "        index = get_index(generator, hour, n_hours)\n",
    "        sum += E[index] * x[generator, hour]\n",
    "cqm.add_constraint(sum >= D)"
   ]
  },
  {
   "cell_type": "code",
   "execution_count": 22,
   "metadata": {},
   "outputs": [
    {
     "name": "stdout",
     "output_type": "stream",
     "text": [
      " \n",
      "==============================BEST SAMPLE SET==============================\n",
      "  x0_0 x0_1 x0_10 x0_11 x0_2 x0_3 x0_4 x0_5 x0_6 ... x4_9 energy num_oc. ...\n",
      "0  0.0  0.0   0.0   0.0  0.0  0.0  0.0  0.0  0.0 ...  1.0    0.0       1 ...\n",
      "1  1.0  0.0   0.0   0.0  1.0  1.0  0.0  1.0  1.0 ...  0.0    0.0       1 ...\n",
      "2  1.0  0.0   1.0   1.0  1.0  1.0  0.0  1.0  0.0 ...  0.0    0.0       1 ...\n",
      "3  1.0  1.0   1.0   0.0  0.0  0.0  0.0  1.0  1.0 ...  1.0    0.0       1 ...\n",
      "4  0.0  1.0   0.0   0.0  1.0  1.0  0.0  0.0  1.0 ...  1.0    0.0       1 ...\n",
      "5  0.0  0.0   0.0   1.0  0.0  0.0  0.0  1.0  1.0 ...  1.0    0.0       1 ...\n",
      "6  1.0  1.0   1.0   0.0  1.0  0.0  1.0  0.0  1.0 ...  1.0    0.0       1 ...\n",
      "7  0.0  0.0   0.0   0.0  1.0  0.0  1.0  0.0  1.0 ...  1.0    0.0       1 ...\n",
      "8  0.0  0.0   1.0   0.0  0.0  0.0  0.0  1.0  1.0 ...  0.0    0.0       1 ...\n",
      "9  0.0  1.0   0.0   1.0  1.0  1.0  1.0  0.0  0.0 ...  1.0    0.0       1 ...\n",
      "['INTEGER', 10 rows, 10 samples, 60 variables]\n"
     ]
    }
   ],
   "source": [
    "#sample \n",
    "sampler = LeapHybridCQMSampler()\n",
    "raw_sampleset = sampler.sample_cqm(cqm)\n",
    "feasible_sampleset = raw_sampleset.filter(lambda d: d.is_feasible)\n",
    "num_feasible = len(feasible_sampleset)\n",
    "if num_feasible > 0:\n",
    "    best_samples = \\\n",
    "        feasible_sampleset.truncate(min(10, num_feasible))\n",
    "else:\n",
    "    best_samples = raw_sampleset.truncate(10)\n",
    "\n",
    "print(\" \\n\" + \"=\" * 30 + \"BEST SAMPLE SET\" + \"=\" * 30)\n",
    "print(best_samples)\n",
    "\n",
    "best_sample = best_samples.first.sample"
   ]
  },
  {
   "cell_type": "code",
   "execution_count": 26,
   "metadata": {},
   "outputs": [],
   "source": [
    "#filtered_dict = {k: v for k, v in best_sample.items() if 'x' in str(k)}\n",
    "filtered_keys = [key for key, value in best_sample.items() if value == 1]\n",
    "completed_list = [item + '0' if len(item) == 2 else item for item in filtered_keys]\n",
    "new_list = [(int(item.split('_')[0][1:]), int(item.split('_')[1])) for item in completed_list]"
   ]
  },
  {
   "attachments": {},
   "cell_type": "markdown",
   "metadata": {},
   "source": [
    "# Plot results"
   ]
  },
  {
   "cell_type": "code",
   "execution_count": 27,
   "metadata": {},
   "outputs": [
    {
     "data": {
      "image/png": "[encoded data removed]",
      "text/plain": [
       "<Figure size 640x480 with 1 Axes>"
      ]
     },
     "metadata": {},
     "output_type": "display_data"
    }
   ],
   "source": [
    "plot_schedule(new_list, n_hours, n_generators, save_image=False, image_path=None)"
   ]
  }
 ],
 "metadata": {
  "kernelspec": {
   "display_name": "env",
   "language": "python",
   "name": "python3"
  },
  "language_info": {
   "codemirror_mode": {
    "name": "ipython",
    "version": 3
   },
   "file_extension": ".py",
   "mimetype": "text/x-python",
   "name": "python",
   "nbconvert_exporter": "python",
   "pygments_lexer": "ipython3",
   "version": "3.11.2"
  },
  "orig_nbformat": 4
 },
 "nbformat": 4,
 "nbformat_minor": 2
}
