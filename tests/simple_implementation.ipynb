{
 "cells": [
  {
   "cell_type": "code",
   "execution_count": 60,
   "metadata": {},
   "outputs": [
    {
     "ename": "ModuleNotFoundError",
     "evalue": "No module named 'utils.utils'; 'utils' is not a package",
     "output_type": "error",
     "traceback": [
      "\u001b[0;31m---------------------------------------------------------------------------\u001b[0m",
      "\u001b[0;31mModuleNotFoundError\u001b[0m                       Traceback (most recent call last)",
      "Cell \u001b[0;32mIn[60], line 17\u001b[0m\n\u001b[1;32m     15\u001b[0m \u001b[39mimport\u001b[39;00m \u001b[39msys\u001b[39;00m\n\u001b[1;32m     16\u001b[0m sys\u001b[39m.\u001b[39mpath\u001b[39m.\u001b[39mappend(\u001b[39m'\u001b[39m\u001b[39m/Users/juanfrancisco/Desktop/uc/uc-problem-annealing/utils/utils.py\u001b[39m\u001b[39m'\u001b[39m)\n\u001b[0;32m---> 17\u001b[0m \u001b[39mfrom\u001b[39;00m \u001b[39mutils\u001b[39;00m\u001b[39m.\u001b[39;00m\u001b[39mutils\u001b[39;00m \u001b[39mimport\u001b[39;00m get_index, get_generator_and_day\n\u001b[1;32m     18\u001b[0m \u001b[39mfrom\u001b[39;00m \u001b[39mutils\u001b[39;00m\u001b[39m.\u001b[39;00m\u001b[39mplots\u001b[39;00m \u001b[39mimport\u001b[39;00m plot_schedule\n",
      "\u001b[0;31mModuleNotFoundError\u001b[0m: No module named 'utils.utils'; 'utils' is not a package"
     ]
    }
   ],
   "source": [
    "import dwave\n",
    "import dimod\n",
    "import neal\n",
    "import os\n",
    "from dwave.system import DWaveSampler, EmbeddingComposite, LeapHybridCQMSampler\n",
    "from dimod import BinaryQuadraticModel, ConstrainedQuadraticModel, Binary\n",
    "from neal import SimulatedAnnealingSampler\n",
    "os.environ['DWAVE_API_TOKEN'] = 'DEV-02d687c5521a014df6c14e8a3ae5694cb67d5a8f'\n",
    "\n",
    "import matplotlib.pyplot as plt\n",
    "from matplotlib.patches import Rectangle\n",
    "import seaborn as sns\n",
    "import numpy as np\n",
    "\n",
    "\n",
    "from utils.utils import get_index, get_generator_and_day\n",
    "from utils.plots import plot_schedule"
   ]
  },
  {
   "attachments": {},
   "cell_type": "markdown",
   "metadata": {},
   "source": [
    "# Problem definition"
   ]
  },
  {
   "attachments": {},
   "cell_type": "markdown",
   "metadata": {},
   "source": [
    "**Variables**\n",
    "- N: number of power plants (n = 1, ..., N)\n",
    "- T: time periods (t = 1, ..., T)\n",
    "- i(n,t): composite index of size NT\n",
    "- x_i: binary vector of size NT indicating the state of power plant (x_00 = 0 -> off, x_00 = 1 -> on)\n",
    "- Q_(i, i): qubo matrix\n",
    "- C_i: vector representing the cost of operating each power plant n at time t\n",
    "- D(t): demand for a time period\n",
    "- E_i: vector representing the efficiency of each power plant n at time t"
   ]
  },
  {
   "cell_type": "code",
   "execution_count": 11,
   "metadata": {},
   "outputs": [],
   "source": [
    "n_generators = 5\n",
    "n_hours = 12\n",
    "size = n_hours * n_generators\n",
    "\n",
    "C = np.random.randint(1, 11, size= size)     # cost of power plants at different hours\n",
    "E = np.random.randint(1, 11, size=size)     # efficiency of power plants at different times\n",
    "D = 100     # demand for a specific time period"
   ]
  },
  {
   "cell_type": "code",
   "execution_count": 12,
   "metadata": {},
   "outputs": [],
   "source": [
    "# Find composite index into 1D list for (generator, hour)\n",
    "def get_index(generator_index, hour_index, n_hours):\n",
    "    return generator_index * n_hours + hour_index\n",
    "\n",
    "# Inverse of get_index - given a composite index in a 1D list, return the\n",
    "# generator and hour\n",
    "def get_generator_and_day(index, hours):\n",
    "    generator_index, hour_index = divmod(index, hours)\n",
    "    return generator_index, hour_index\n",
    "\n",
    "def create_matrix(diagonal_vector):\n",
    "    n = len(diagonal_vector)\n",
    "    matrix = np.zeros((n, n))\n",
    "    np.fill_diagonal(matrix, diagonal_vector)\n",
    "    return matrix"
   ]
  },
  {
   "cell_type": "code",
   "execution_count": 13,
   "metadata": {},
   "outputs": [],
   "source": [
    "#QUBO matrix definition\n",
    "qubo_matrix = create_matrix(C)"
   ]
  },
  {
   "attachments": {},
   "cell_type": "markdown",
   "metadata": {},
   "source": [
    "# Quadratic Unconstrained Model"
   ]
  },
  {
   "cell_type": "code",
   "execution_count": 40,
   "metadata": {},
   "outputs": [],
   "source": [
    "bqm = BinaryQuadraticModel.from_qubo(qubo_matrix)\n",
    "cqm = ConstrainedQuadraticModel.from_bqm(bqm)"
   ]
  },
  {
   "cell_type": "code",
   "execution_count": 41,
   "metadata": {},
   "outputs": [],
   "source": [
    "#define the variables\n",
    "x = {(n, t): Binary('x{}_{}'.format(n, t)) for n in range(n_generators) for t in range(n_hours)}"
   ]
  },
  {
   "cell_type": "code",
   "execution_count": 43,
   "metadata": {},
   "outputs": [
    {
     "data": {
      "text/plain": [
       "BinaryQuadraticModel({'x0_0': 1.0}, {}, 0.0, 'BINARY')"
      ]
     },
     "execution_count": 43,
     "metadata": {},
     "output_type": "execute_result"
    }
   ],
   "source": [
    "x[0,0]"
   ]
  },
  {
   "cell_type": "code",
   "execution_count": 44,
   "metadata": {},
   "outputs": [],
   "source": [
    "#define the contraints\n",
    "sum = 0\n",
    "for hour in range(n_hours):\n",
    "    for generator in range(n_generators):\n",
    "        index = get_index(generator, hour, n_hours)\n",
    "        sum += E[index] * x[generator, hour]\n",
    "    cqm.add_constraint(sum >= D)"
   ]
  },
  {
   "cell_type": "code",
   "execution_count": 45,
   "metadata": {},
   "outputs": [
    {
     "name": "stdout",
     "output_type": "stream",
     "text": [
      " \n",
      "==============================BEST SAMPLE SET==============================\n",
      "    0   1   2   3   4   5   6   7   8   9  10  11 ... x4_11 energy num_oc. ...\n",
      "0 0.0 0.0 0.0 0.0 0.0 0.0 0.0 0.0 0.0 0.0 0.0 0.0 ...   0.0    0.0       1 ...\n",
      "1 0.0 0.0 0.0 0.0 0.0 0.0 0.0 0.0 0.0 0.0 0.0 0.0 ...   1.0    0.0       1 ...\n",
      "2 0.0 0.0 0.0 0.0 0.0 0.0 0.0 0.0 0.0 0.0 0.0 0.0 ...   1.0    0.0       1 ...\n",
      "3 0.0 0.0 0.0 0.0 0.0 0.0 0.0 0.0 0.0 0.0 0.0 0.0 ...   1.0    0.0       1 ...\n",
      "4 0.0 0.0 0.0 0.0 0.0 0.0 0.0 0.0 0.0 0.0 0.0 0.0 ...   1.0    0.0       1 ...\n",
      "5 0.0 0.0 0.0 0.0 0.0 0.0 0.0 0.0 0.0 0.0 0.0 0.0 ...   0.0    0.0       1 ...\n",
      "6 0.0 0.0 0.0 0.0 0.0 0.0 0.0 0.0 0.0 0.0 0.0 0.0 ...   1.0    0.0       1 ...\n",
      "7 0.0 0.0 0.0 0.0 0.0 0.0 0.0 0.0 0.0 0.0 0.0 0.0 ...   0.0    0.0       1 ...\n",
      "8 0.0 0.0 0.0 0.0 0.0 0.0 0.0 0.0 0.0 0.0 0.0 0.0 ...   1.0    0.0       1 ...\n",
      "9 0.0 0.0 0.0 0.0 0.0 0.0 0.0 0.0 0.0 0.0 0.0 0.0 ...   1.0    0.0       1 ...\n",
      "['INTEGER', 10 rows, 10 samples, 120 variables]\n"
     ]
    }
   ],
   "source": [
    "sampler = LeapHybridCQMSampler()\n",
    "raw_sampleset = sampler.sample_cqm(cqm)\n",
    "feasible_sampleset = raw_sampleset.filter(lambda d: d.is_feasible)\n",
    "num_feasible = len(feasible_sampleset)\n",
    "if num_feasible > 0:\n",
    "    best_samples = \\\n",
    "        feasible_sampleset.truncate(min(10, num_feasible))\n",
    "else:\n",
    "    best_samples = raw_sampleset.truncate(10)\n",
    "\n",
    "print(\" \\n\" + \"=\" * 30 + \"BEST SAMPLE SET\" + \"=\" * 30)\n",
    "print(best_samples)\n",
    "\n",
    "best_sample = best_samples.first.sample"
   ]
  },
  {
   "cell_type": "code",
   "execution_count": 46,
   "metadata": {},
   "outputs": [
    {
     "data": {
      "text/plain": [
       "{0: 0.0,\n",
       " 1: 0.0,\n",
       " 2: 0.0,\n",
       " 3: 0.0,\n",
       " 4: 0.0,\n",
       " 5: 0.0,\n",
       " 6: 0.0,\n",
       " 7: 0.0,\n",
       " 8: 0.0,\n",
       " 9: 0.0,\n",
       " 10: 0.0,\n",
       " 11: 0.0,\n",
       " 12: 0.0,\n",
       " 13: 0.0,\n",
       " 14: 0.0,\n",
       " 15: 0.0,\n",
       " 16: 0.0,\n",
       " 17: 0.0,\n",
       " 18: 0.0,\n",
       " 19: 0.0,\n",
       " 20: 0.0,\n",
       " 21: 0.0,\n",
       " 22: 0.0,\n",
       " 23: 0.0,\n",
       " 24: 0.0,\n",
       " 25: 0.0,\n",
       " 26: 0.0,\n",
       " 27: 0.0,\n",
       " 28: 0.0,\n",
       " 29: 0.0,\n",
       " 30: 0.0,\n",
       " 31: 0.0,\n",
       " 32: 0.0,\n",
       " 33: 0.0,\n",
       " 34: 0.0,\n",
       " 35: 0.0,\n",
       " 36: 0.0,\n",
       " 37: 0.0,\n",
       " 38: 0.0,\n",
       " 39: 0.0,\n",
       " 40: 0.0,\n",
       " 41: 0.0,\n",
       " 42: 0.0,\n",
       " 43: 0.0,\n",
       " 44: 0.0,\n",
       " 45: 0.0,\n",
       " 46: 0.0,\n",
       " 47: 0.0,\n",
       " 48: 0.0,\n",
       " 49: 0.0,\n",
       " 50: 0.0,\n",
       " 51: 0.0,\n",
       " 52: 0.0,\n",
       " 53: 0.0,\n",
       " 54: 0.0,\n",
       " 55: 0.0,\n",
       " 56: 0.0,\n",
       " 57: 0.0,\n",
       " 58: 0.0,\n",
       " 59: 0.0,\n",
       " 'x0_0': 1.0,\n",
       " 'x1_0': 1.0,\n",
       " 'x2_0': 1.0,\n",
       " 'x3_0': 1.0,\n",
       " 'x4_0': 1.0,\n",
       " 'x0_1': 1.0,\n",
       " 'x1_1': 1.0,\n",
       " 'x2_1': 1.0,\n",
       " 'x3_1': 1.0,\n",
       " 'x4_1': 1.0,\n",
       " 'x0_2': 1.0,\n",
       " 'x1_2': 1.0,\n",
       " 'x2_2': 1.0,\n",
       " 'x3_2': 1.0,\n",
       " 'x4_2': 1.0,\n",
       " 'x0_3': 1.0,\n",
       " 'x1_3': 1.0,\n",
       " 'x2_3': 0.0,\n",
       " 'x3_3': 0.0,\n",
       " 'x4_3': 0.0,\n",
       " 'x0_4': 1.0,\n",
       " 'x1_4': 1.0,\n",
       " 'x2_4': 0.0,\n",
       " 'x3_4': 1.0,\n",
       " 'x4_4': 1.0,\n",
       " 'x0_5': 0.0,\n",
       " 'x1_5': 0.0,\n",
       " 'x2_5': 1.0,\n",
       " 'x3_5': 0.0,\n",
       " 'x4_5': 0.0,\n",
       " 'x0_6': 1.0,\n",
       " 'x1_6': 0.0,\n",
       " 'x2_6': 1.0,\n",
       " 'x3_6': 0.0,\n",
       " 'x4_6': 1.0,\n",
       " 'x0_7': 0.0,\n",
       " 'x1_7': 0.0,\n",
       " 'x2_7': 1.0,\n",
       " 'x3_7': 0.0,\n",
       " 'x4_7': 0.0,\n",
       " 'x0_8': 1.0,\n",
       " 'x1_8': 1.0,\n",
       " 'x2_8': 0.0,\n",
       " 'x3_8': 0.0,\n",
       " 'x4_8': 1.0,\n",
       " 'x0_9': 0.0,\n",
       " 'x1_9': 0.0,\n",
       " 'x2_9': 1.0,\n",
       " 'x3_9': 0.0,\n",
       " 'x4_9': 0.0,\n",
       " 'x0_10': 1.0,\n",
       " 'x1_10': 1.0,\n",
       " 'x2_10': 0.0,\n",
       " 'x3_10': 0.0,\n",
       " 'x4_10': 1.0,\n",
       " 'x0_11': 0.0,\n",
       " 'x1_11': 1.0,\n",
       " 'x2_11': 0.0,\n",
       " 'x3_11': 0.0,\n",
       " 'x4_11': 0.0}"
      ]
     },
     "execution_count": 46,
     "metadata": {},
     "output_type": "execute_result"
    }
   ],
   "source": [
    "best_sample"
   ]
  },
  {
   "cell_type": "code",
   "execution_count": 52,
   "metadata": {},
   "outputs": [],
   "source": [
    "filtered_dict = {k: v for k, v in best_sample.items() if 'x' in str(k)}\n",
    "filtered_keys = [key for key, value in filtered_dict.items() if value == 1]\n",
    "completed_list = [item + '0' if len(item) == 2 else item for item in filtered_keys]\n",
    "new_list = [(int(item.split('_')[0][1:]), int(item.split('_')[1])) for item in completed_list]"
   ]
  },
  {
   "cell_type": "code",
   "execution_count": 55,
   "metadata": {},
   "outputs": [
    {
     "data": {
      "image/png": "[encoded data removed]",
      "text/plain": [
       "<Figure size 640x480 with 1 Axes>"
      ]
     },
     "metadata": {},
     "output_type": "display_data"
    }
   ],
   "source": [
    "plot_schedule(new_list, n_hours, n_generators, save_image=False, image_path=None)"
   ]
  },
  {
   "cell_type": "code",
   "execution_count": 53,
   "metadata": {},
   "outputs": [
    {
     "data": {
      "text/plain": [
       "Text(0, 0.5, 'Generators')"
      ]
     },
     "execution_count": 53,
     "metadata": {},
     "output_type": "execute_result"
    },
    {
     "data": {
      "image/png": "[encoded data removed]",
      "text/plain": [
       "<Figure size 640x480 with 1 Axes>"
      ]
     },
     "metadata": {},
     "output_type": "display_data"
    }
   ],
   "source": [
    "# Save image of schedule\n",
    "x,y = zip(*new_list)\n",
    "fig = plt.figure()\n",
    "ax = fig.add_subplot(111)\n",
    "ax.scatter(y, x)\n",
    "width = 1\n",
    "height = 1\n",
    "for a_y, a_x in new_list:\n",
    "    if a_y == 0:\n",
    "        ax.add_patch(Rectangle(\n",
    "            xy=(a_x-width/2, a_y-height/2) ,width=width, height=height,\n",
    "            linewidth=1, color='blue', fill=True))\n",
    "    elif a_y == 1:\n",
    "        ax.add_patch(Rectangle(\n",
    "            xy=(a_x-width/2, a_y-height/2) ,width=width, height=height,\n",
    "            linewidth=1, color='red', fill=True))\n",
    "    else:\n",
    "        ax.add_patch(Rectangle(\n",
    "            xy=(a_x-width/2, a_y-height/2) ,width=width, height=height,\n",
    "            linewidth=1, color='green', fill=True))\n",
    "ax.axis('equal')\n",
    "ax.set_xticks(range(n_hours))\n",
    "ax.set_yticks(range(n_generators))\n",
    "ax.set_xlabel(\"Hours\")\n",
    "ax.set_ylabel(\"Generators\")"
   ]
  },
  {
   "cell_type": "code",
   "execution_count": null,
   "metadata": {},
   "outputs": [],
   "source": []
  }
 ],
 "metadata": {
  "kernelspec": {
   "display_name": "env",
   "language": "python",
   "name": "python3"
  },
  "language_info": {
   "codemirror_mode": {
    "name": "ipython",
    "version": 3
   },
   "file_extension": ".py",
   "mimetype": "text/x-python",
   "name": "python",
   "nbconvert_exporter": "python",
   "pygments_lexer": "ipython3",
   "version": "3.11.2"
  },
  "orig_nbformat": 4
 },
 "nbformat": 4,
 "nbformat_minor": 2
}
