{
  "nbformat": 4,
  "nbformat_minor": 0,
  "metadata": {
    "colab": {
      "provenance": [],
      "toc_visible": true,
      "authorship_tag": "ABX9TyPudHOkvopTmpKh3Ndn2OAI",
      "include_colab_link": true
    },
    "kernelspec": {
      "name": "python3",
      "display_name": "Python 3"
    },
    "language_info": {
      "name": "python"
    }
  },
  "cells": [
    {
      "cell_type": "markdown",
      "metadata": {
        "id": "view-in-github",
        "colab_type": "text"
      },
      "source": [
        "<a href=\"https://colab.research.google.com/github/juanfrh7/uc-problem-annealing/blob/main/Discrete_Power_Systems_Portfolio_Optimization_using_Quantum_Annealing.ipynb\" target=\"_parent\"><img src=\"https://colab.research.google.com/assets/colab-badge.svg\" alt=\"Open In Colab\"/></a>"
      ]
    },
    {
      "cell_type": "markdown",
      "source": [
        "# Imports"
      ],
      "metadata": {
        "id": "s-V6kINlKXa2"
      }
    },
    {
      "cell_type": "code",
      "execution_count": null,
      "metadata": {
        "colab": {
          "base_uri": "https://localhost:8080/"
        },
        "id": "m6zhmk68L8mO",
        "outputId": "5f516c79-62a2-424b-d975-262be68912c8"
      },
      "outputs": [
        {
          "output_type": "stream",
          "name": "stdout",
          "text": [
            "Looking in indexes: https://pypi.org/simple, https://us-python.pkg.dev/colab-wheels/public/simple/\n",
            "Requirement already satisfied: dwave-system in /usr/local/lib/python3.10/dist-packages (1.18.0)\n",
            "Requirement already satisfied: dimod<0.14.0,>=0.12.0 in /usr/local/lib/python3.10/dist-packages (from dwave-system) (0.12.5)\n",
            "Requirement already satisfied: dwave-cloud-client<0.11.0,>=0.9.1 in /usr/local/lib/python3.10/dist-packages (from dwave-system) (0.10.4)\n",
            "Requirement already satisfied: dwave-networkx>=0.8.10 in /usr/local/lib/python3.10/dist-packages (from dwave-system) (0.8.14)\n",
            "Requirement already satisfied: dwave-preprocessing>=0.5.0 in /usr/local/lib/python3.10/dist-packages (from dwave-system) (0.5.4)\n",
            "Requirement already satisfied: networkx<3.0,>=2.0 in /usr/local/lib/python3.10/dist-packages (from dwave-system) (2.8.8)\n",
            "Requirement already satisfied: homebase<2.0.0,>=1.0.0 in /usr/local/lib/python3.10/dist-packages (from dwave-system) (1.0.1)\n",
            "Requirement already satisfied: minorminer<0.3.0,>=0.2.8 in /usr/local/lib/python3.10/dist-packages (from dwave-system) (0.2.11)\n",
            "Requirement already satisfied: numpy>=1.20.0 in /usr/local/lib/python3.10/dist-packages (from dwave-system) (1.22.4)\n",
            "Requirement already satisfied: dwave-samplers>=1.0.0 in /usr/local/lib/python3.10/dist-packages (from dwave-system) (1.0.0)\n",
            "Requirement already satisfied: scipy>=1.7.3 in /usr/local/lib/python3.10/dist-packages (from dwave-system) (1.10.1)\n",
            "Requirement already satisfied: requests[socks]>=2.18 in /usr/local/lib/python3.10/dist-packages (from dwave-cloud-client<0.11.0,>=0.9.1->dwave-system) (2.27.1)\n",
            "Requirement already satisfied: pydantic>=1.7.3 in /usr/local/lib/python3.10/dist-packages (from dwave-cloud-client<0.11.0,>=0.9.1->dwave-system) (1.10.7)\n",
            "Requirement already satisfied: click>=7.0 in /usr/local/lib/python3.10/dist-packages (from dwave-cloud-client<0.11.0,>=0.9.1->dwave-system) (8.1.3)\n",
            "Requirement already satisfied: python-dateutil>=2.7 in /usr/local/lib/python3.10/dist-packages (from dwave-cloud-client<0.11.0,>=0.9.1->dwave-system) (2.8.2)\n",
            "Requirement already satisfied: plucky>=0.4.3 in /usr/local/lib/python3.10/dist-packages (from dwave-cloud-client<0.11.0,>=0.9.1->dwave-system) (0.4.3)\n",
            "Requirement already satisfied: diskcache>=5.2.1 in /usr/local/lib/python3.10/dist-packages (from dwave-cloud-client<0.11.0,>=0.9.1->dwave-system) (5.6.1)\n",
            "Requirement already satisfied: fasteners in /usr/local/lib/python3.10/dist-packages (from minorminer<0.3.0,>=0.2.8->dwave-system) (0.18)\n",
            "Requirement already satisfied: rectangle-packer>=2.0.1 in /usr/local/lib/python3.10/dist-packages (from minorminer<0.3.0,>=0.2.8->dwave-system) (2.0.1)\n",
            "Requirement already satisfied: typing-extensions>=4.2.0 in /usr/local/lib/python3.10/dist-packages (from pydantic>=1.7.3->dwave-cloud-client<0.11.0,>=0.9.1->dwave-system) (4.5.0)\n",
            "Requirement already satisfied: six>=1.5 in /usr/local/lib/python3.10/dist-packages (from python-dateutil>=2.7->dwave-cloud-client<0.11.0,>=0.9.1->dwave-system) (1.16.0)\n",
            "Requirement already satisfied: urllib3<1.27,>=1.21.1 in /usr/local/lib/python3.10/dist-packages (from requests[socks]>=2.18->dwave-cloud-client<0.11.0,>=0.9.1->dwave-system) (1.26.15)\n",
            "Requirement already satisfied: certifi>=2017.4.17 in /usr/local/lib/python3.10/dist-packages (from requests[socks]>=2.18->dwave-cloud-client<0.11.0,>=0.9.1->dwave-system) (2022.12.7)\n",
            "Requirement already satisfied: charset-normalizer~=2.0.0 in /usr/local/lib/python3.10/dist-packages (from requests[socks]>=2.18->dwave-cloud-client<0.11.0,>=0.9.1->dwave-system) (2.0.12)\n",
            "Requirement already satisfied: idna<4,>=2.5 in /usr/local/lib/python3.10/dist-packages (from requests[socks]>=2.18->dwave-cloud-client<0.11.0,>=0.9.1->dwave-system) (3.4)\n",
            "Requirement already satisfied: PySocks!=1.5.7,>=1.5.6 in /usr/local/lib/python3.10/dist-packages (from requests[socks]>=2.18->dwave-cloud-client<0.11.0,>=0.9.1->dwave-system) (1.7.1)\n"
          ]
        }
      ],
      "source": [
        "!pip install dwave-system\n",
        "import dwave\n",
        "from dwave.system import DWaveSampler, EmbeddingComposite\n",
        "import dimod\n",
        "\n",
        "from collections import defaultdict\n",
        "from copy import deepcopy\n",
        "from dwave.system import LeapHybridSampler\n",
        "from dimod import BinaryQuadraticModel\n",
        "\n",
        "try:\n",
        "    import matplotlib.pyplot as plt\n",
        "    from matplotlib.patches import Rectangle\n",
        "except ImportError:\n",
        "    matplotlib.use(\"agg\")\n",
        "    import matplotlib.pyplot as plt\n",
        "    from matplotlib.patches import Rectangle\n",
        "\n",
        "import numpy as np\n",
        "\n",
        "import os\n",
        "os.environ['DWAVE_API_TOKEN'] = 'DEV-02d687c5521a014df6c14e8a3ae5694cb67d5a8f'"
      ]
    },
    {
      "cell_type": "code",
      "source": [
        "# Find composite index into 1D list for (nurse_index, day_index)\n",
        "def get_index(generator_index, day_index):\n",
        "    return generator_index * n_hours + day_index\n",
        "\n",
        "\n",
        "# Inverse of get_index - given a composite index in a 1D list, return the\n",
        "# nurse_index and day_index\n",
        "def get_generator_and_day(index):\n",
        "    nurse_index, day_index = divmod(index, n_hours)\n",
        "    return nurse_index, day_index\n",
        "\n",
        "def dict_to_mat(dic):\n",
        "  # Determine the size of the matrix\n",
        "  size = max(max(key) for key in dic.keys()) + 1\n",
        "\n",
        "  # Create an empty matrix\n",
        "  matrix = np.zeros((size, size))\n",
        "\n",
        "  # Fill the matrix with the dictionary values\n",
        "  for key, value in dic.items():\n",
        "      matrix[key[0]][key[1]] = value\n",
        "\n",
        "  # Print the resulting matrix\n",
        "  return matrix"
      ],
      "metadata": {
        "id": "nZ_Xos_MPPLA"
      },
      "execution_count": null,
      "outputs": []
    },
    {
      "cell_type": "markdown",
      "source": [
        "# Problem definition"
      ],
      "metadata": {
        "id": "WqIwVx2PKgRB"
      }
    },
    {
      "cell_type": "markdown",
      "source": [
        "There are many different UC problems, as the electrical system is structured and governed differently across the world. Common elements are:\n",
        "\n",
        "- A time horizon along which the decisions have to be made, sampled at a finite number of time instants. This is usually one or two days, up to a week, where instants are usually hours or half-hours; less frequently, 15 or 5 minutes. Hence, time instants are typically between 24 and around 2000.\n",
        "- A set of generating units with the corresponding energy production cost and/or emission curves, and (complex) technical constraints.\n",
        "- A representation of the significant part of the grid network.\n",
        "- A (forecasted) load profile to be satisfied, i.e., the net amount of energy to be delivered to each node of the grid network at each time instant.\n",
        "- Possibly, a set of reliability constraints ensuring that demand will be satisfied even if some unforeseen events occur.\n",
        "- Possibly, financial and/or regulatory conditions (energy revenues, market operation constraints, financial instruments, ...)."
      ],
      "metadata": {
        "id": "6nHO33YBnPSX"
      }
    },
    {
      "cell_type": "code",
      "source": [
        "n_generators = 10\n",
        "n_hours = 24\n",
        "\n",
        "# cost of power plants at different hours (?)\n",
        "C = np.random.randint(1, 11, size=(n_hours, n_generators))\n",
        "\n",
        "lagrange_hard_shift = 1.3 \n",
        "generators_required = 2     # number of genereators required every hour - set to a constant for now\n",
        "efficiency = 1        # efficiency of each generator - set to a constant for now\n",
        "\n",
        "size = n_hours * n_generators"
      ],
      "metadata": {
        "id": "oTQA67lWsBtD"
      },
      "execution_count": null,
      "outputs": []
    },
    {
      "cell_type": "code",
      "source": [
        "# first we assign to the diagonal terms the cost of operating \n",
        "# each generator at each hour\n",
        "K = defaultdict(int)\n",
        "for generator in range(n_generators):\n",
        "    for hour in range(n_hours - 1):\n",
        "        generator_hour_1 = get_index(generator, hour)\n",
        "        generator_hour_2 = get_index(generator, hour+1)\n",
        "        K[generator_hour_1, generator_hour_2] = C[hour][generator]\n",
        "\n",
        "# Q matrix assign the cost term, the J matrix\n",
        "Q = deepcopy(K)"
      ],
      "metadata": {
        "id": "a9iu2NwztlnQ"
      },
      "execution_count": null,
      "outputs": []
    },
    {
      "cell_type": "code",
      "source": [
        "# Set the print options to display the whole matrix\n",
        "np.set_printoptions(threshold=np.inf)\n",
        "A = dict_to_mat(Q)\n",
        "#print(A)"
      ],
      "metadata": {
        "id": "N_SJAss0tWsX"
      },
      "execution_count": null,
      "outputs": []
    },
    {
      "cell_type": "markdown",
      "source": [
        "**Hard shift constraint**: at least one generator working every hour. The sum of the enrgy is over each hour. This constraint tries to make (efficiency * sum(q_i)) equal to energy, which is set to a constant in this implementation, so that one generator is working each hour.\n",
        "\n",
        " Overall hard shift constraint:\n",
        "\n",
        " lagrange_hard_shift * sum_d ((sum_n(effort * q_i(n,d)) - workforce) ** 2)\n",
        "\n",
        "\n",
        "with constant effort and constant workforce:\n",
        " = lagrange_hard_shift * sum_d ( effort * sum_n q_i(n,d) - workforce ) ** 2\n",
        " = lagrange_hard_shift * sum_d [ effort ** 2 * (sum_n q_i(n,d) * * 2) - 2 effort * workforce * sum_n q_i(n,d) + workforce ** 2 ]\n",
        "\n",
        "\n",
        " The constant term is moved to the offset, below, right before we solve the QUBO. Expanding and merging the terms ( m is another sum over n ):\n",
        "\n",
        " lagrange_hard_shift * (effort ** 2 - 2 effort * workforce) * sum_d sum_n q_i(n,d) + lagrange_hard_shift * effort ** 2 * sum_d sum_m sum_n q_i(n,d) q_j(m, d) "
      ],
      "metadata": {
        "id": "dQgXIGDrUN25"
      }
    },
    {
      "cell_type": "markdown",
      "source": [
        "This constraint limits the minimum number of generators working every day and we should aim at minimum energy so that the algorithm finds the optimal number of generators"
      ],
      "metadata": {
        "id": "Mb0nH4r9X6ue"
      }
    },
    {
      "cell_type": "code",
      "source": [
        "# include constraints as penalty terms\n",
        "# Diagonal terms in hard shift constraint, without the workforce**2 term\n",
        "for generator in range(n_generators):\n",
        "    for hour in range(n_hours):\n",
        "        ind = get_index(generator, hour)\n",
        "        Q[ind, ind] += lagrange_hard_shift * (efficiency ** 2 - (2 * generators_required * efficiency))\n",
        "\n",
        "# Off-diagonal terms in hard shift constraint\n",
        "# Include only the same day, across nurses\n",
        "for hour in range(n_hours):\n",
        "    for generator1 in range(n_generators):\n",
        "        for generator2 in range(generator1 + 1, n_generators):\n",
        "\n",
        "            ind1 = get_index(generator1, hour)\n",
        "            ind2 = get_index(generator2, hour)\n",
        "            Q[ind1, ind2] += 2 * lagrange_hard_shift * efficiency ** 2"
      ],
      "metadata": {
        "id": "zcXW1WDMLY4P"
      },
      "execution_count": null,
      "outputs": []
    },
    {
      "cell_type": "code",
      "source": [
        "# Solve the problem, and use the offset to scale the energy\n",
        "e_offset = (lagrange_hard_shift * n_hours * generators_required ** 2)\n",
        "bqm = BinaryQuadraticModel.from_qubo(Q, offset=e_offset)\n",
        "\n",
        "print(\"\\nSending problem to hybrid sampler...\")\n",
        "# Create a D-Wave sampler\n",
        "sampler = EmbeddingComposite(DWaveSampler(solver='Advantage_system4.1'))\n",
        "results = sampler.sample(bqm, label='Example - Power Plant Scheduling')\n",
        "\n",
        "# Get the results\n",
        "smpl = results.first.sample\n",
        "\n",
        "# Graphics\n",
        "print(\"\\nBuilding schedule and checking constraints...\\n\")\n",
        "sched = [get_generator_and_day(j) for j in range(size) if smpl[j] == 1]"
      ],
      "metadata": {
        "colab": {
          "base_uri": "https://localhost:8080/"
        },
        "id": "tfUQ3THGMcwJ",
        "outputId": "bbba5077-954a-4708-c9c9-784c50e6a58c"
      },
      "execution_count": null,
      "outputs": [
        {
          "output_type": "stream",
          "name": "stdout",
          "text": [
            "\n",
            "Sending problem to hybrid sampler...\n",
            "\n",
            "Building schedule and checking constraints...\n",
            "\n"
          ]
        }
      ]
    },
    {
      "cell_type": "code",
      "source": [
        "# Save image of schedule\n",
        "x,y = zip(*sched)\n",
        "fig = plt.figure()\n",
        "ax = fig.add_subplot(111)\n",
        "ax.scatter(y, x)\n",
        "width = 1\n",
        "height = 1\n",
        "for a_y, a_x in sched:\n",
        "    if a_y == 0:\n",
        "        ax.add_patch(Rectangle(\n",
        "            xy=(a_x-width/2, a_y-height/2) ,width=width, height=height,\n",
        "            linewidth=1, color='blue', fill=True))\n",
        "    elif a_y == 1:\n",
        "        ax.add_patch(Rectangle(\n",
        "            xy=(a_x-width/2, a_y-height/2) ,width=width, height=height,\n",
        "            linewidth=1, color='red', fill=True))\n",
        "    else:\n",
        "        ax.add_patch(Rectangle(\n",
        "            xy=(a_x-width/2, a_y-height/2) ,width=width, height=height,\n",
        "            linewidth=1, color='green', fill=True))\n",
        "ax.axis('equal')\n",
        "ax.set_xticks(range(n_hours))\n",
        "ax.set_yticks(range(n_generators))\n",
        "ax.set_xlabel(\"Hours\")\n",
        "ax.set_ylabel(\"Generators\")\n",
        "plt.savefig(\"schedule.png\")\n"
      ],
      "metadata": {
        "colab": {
          "base_uri": "https://localhost:8080/",
          "height": 449
        },
        "id": "Oc7QSQY4MxG1",
        "outputId": "8144b8d5-06b7-4fea-f9e8-608c9f177816"
      },
      "execution_count": null,
      "outputs": [
        {
          "output_type": "display_data",
          "data": {
            "text/plain": [
              "<Figure size 640x480 with 1 Axes>"
            ],
            "image/png": "[encoded data removed]"
          },
          "metadata": {}
        }
      ]
    },
    {
      "cell_type": "markdown",
      "source": [
        "**Constraints**"
      ],
      "metadata": {
        "id": "4EJ-OzC78Bp3"
      }
    },
    {
      "cell_type": "code",
      "source": [
        "def power_generation_constraint(x, E, P, D):\n",
        "    \"\"\"The total power generated by all power plants should meet or exceed the demand.\"\"\"\n",
        "    #total_generation = np.dot(P, np.dot(E, x))\n",
        "    total_generation = sum(E[i] * x[i] * P[i] for i in range(len(x)))\n",
        "    return total_generation >= D\n",
        "\n",
        "def reliability_constraint(x, p):\n",
        "    \"\"\"The reliability threshold of the power system should be maintained.\"\"\"\n",
        "    # Check the reliability of each power plant\n",
        "    total_prob = np.dot(P, x)\n",
        "    return total_prob >= p\n",
        "\n",
        "def min_max_generation_constraint(x, min_generation, max_generation):\n",
        "    \"\"\"Each power plant should operate within its minimum \n",
        "    and maximum generation limits.\"\"\"\n",
        "    # Check the generation limits for each power plant\n",
        "    for i in range(len(x)):\n",
        "        if x[i] < min_generation[i] or x[i] > max_generation[i]:\n",
        "            return False\n",
        "    return True\n",
        "\n",
        "def ramp_rate_constraint(x, previous_x, max_ramp_rate):\n",
        "    \"\"\"The rate at which the power generation can change \n",
        "    should be limited to avoid abrupt changes.\"\"\"\n",
        "    # Check the ramp rate for each power plant\n",
        "    for i in range(len(x)):\n",
        "        if abs(x[i] - previous_x[i]) > max_ramp_rate[i]:\n",
        "            return False\n",
        "    return True"
      ],
      "metadata": {
        "id": "GV-SaQhw8A1L"
      },
      "execution_count": null,
      "outputs": []
    },
    {
      "cell_type": "markdown",
      "source": [
        "# Classical algorithm (not working yet)"
      ],
      "metadata": {
        "id": "7Rls1lcGKW6B"
      }
    },
    {
      "cell_type": "code",
      "source": [
        "import numpy as np\n",
        "from scipy.optimize import minimize\n",
        "\n",
        "# Define the QUBO objective function\n",
        "def qubo_objective(x, Q):\n",
        "    return 0.5 * np.dot(x, np.dot(Q, x))\n",
        "\n",
        "# Define the constraint function\n",
        "def constraint(x):\n",
        "    return np.sum(x) - D\n",
        "\n",
        "# Define the bounds for the variables\n",
        "bounds = [(0, 1) for _ in range(n)]\n",
        "\n",
        "x0 = [0] * n   \n",
        "\n",
        "# Solve the QUBO problem using classical optimization\n",
        "result = minimize(qubo_objective, x0=x0, args=(q_matrix,), constraints={'type': 'ineq', 'fun': power_generation_constraint(E, D)}, bounds=bounds)\n",
        "\n",
        "# Print the solution\n",
        "print(\"Optimization successful.\")\n",
        "print(\"Solution:\", np.round(result.x))\n"
      ],
      "metadata": {
        "colab": {
          "base_uri": "https://localhost:8080/",
          "height": 258
        },
        "id": "f3RD4JdSR5Bd",
        "outputId": "3e99c48c-f061-4ccb-c59d-b67da64f66d0"
      },
      "execution_count": null,
      "outputs": [
        {
          "output_type": "error",
          "ename": "TypeError",
          "evalue": "ignored",
          "traceback": [
            "\u001b[0;31m---------------------------------------------------------------------------\u001b[0m",
            "\u001b[0;31mTypeError\u001b[0m                                 Traceback (most recent call last)",
            "\u001b[0;32m<ipython-input-104-e4adfbb17bb2>\u001b[0m in \u001b[0;36m<cell line: 18>\u001b[0;34m()\u001b[0m\n\u001b[1;32m     16\u001b[0m \u001b[0;34m\u001b[0m\u001b[0m\n\u001b[1;32m     17\u001b[0m \u001b[0;31m# Solve the QUBO problem using classical optimization\u001b[0m\u001b[0;34m\u001b[0m\u001b[0;34m\u001b[0m\u001b[0m\n\u001b[0;32m---> 18\u001b[0;31m \u001b[0mresult\u001b[0m \u001b[0;34m=\u001b[0m \u001b[0mminimize\u001b[0m\u001b[0;34m(\u001b[0m\u001b[0mqubo_objective\u001b[0m\u001b[0;34m,\u001b[0m \u001b[0mx0\u001b[0m\u001b[0;34m=\u001b[0m\u001b[0mx0\u001b[0m\u001b[0;34m,\u001b[0m \u001b[0margs\u001b[0m\u001b[0;34m=\u001b[0m\u001b[0;34m(\u001b[0m\u001b[0mq_matrix\u001b[0m\u001b[0;34m,\u001b[0m\u001b[0;34m)\u001b[0m\u001b[0;34m,\u001b[0m \u001b[0mconstraints\u001b[0m\u001b[0;34m=\u001b[0m\u001b[0;34m{\u001b[0m\u001b[0;34m'type'\u001b[0m\u001b[0;34m:\u001b[0m \u001b[0;34m'ineq'\u001b[0m\u001b[0;34m,\u001b[0m \u001b[0;34m'fun'\u001b[0m\u001b[0;34m:\u001b[0m \u001b[0mpower_generation_constraint\u001b[0m\u001b[0;34m(\u001b[0m\u001b[0mE\u001b[0m\u001b[0;34m,\u001b[0m \u001b[0mD\u001b[0m\u001b[0;34m)\u001b[0m\u001b[0;34m}\u001b[0m\u001b[0;34m,\u001b[0m \u001b[0mbounds\u001b[0m\u001b[0;34m=\u001b[0m\u001b[0mbounds\u001b[0m\u001b[0;34m)\u001b[0m\u001b[0;34m\u001b[0m\u001b[0;34m\u001b[0m\u001b[0m\n\u001b[0m\u001b[1;32m     19\u001b[0m \u001b[0;34m\u001b[0m\u001b[0m\n\u001b[1;32m     20\u001b[0m \u001b[0;31m# Print the solution\u001b[0m\u001b[0;34m\u001b[0m\u001b[0;34m\u001b[0m\u001b[0m\n",
            "\u001b[0;31mTypeError\u001b[0m: power_generation_constraint() missing 1 required positional argument: 'D'"
          ]
        }
      ]
    },
    {
      "cell_type": "markdown",
      "source": [
        "# Quantum annealer"
      ],
      "metadata": {
        "id": "bYQzbyhWKvZG"
      }
    },
    {
      "cell_type": "code",
      "source": [
        "from dimod.constrained.constrained import ConstrainedQuadraticModel\n",
        "# Define the QUBO problem\n",
        "bqm = dimod.BinaryQuadraticModel.from_qubo(q)\n",
        "cqm = ConstrainedQuadraticModel.from_quadratic_model(bqm)\n",
        "cqm"
      ],
      "metadata": {
        "colab": {
          "base_uri": "https://localhost:8080/"
        },
        "id": "TeBpDLMQPEeP",
        "outputId": "adc4df88-2a42-4120-d958-4ed5c5a3e5eb"
      },
      "execution_count": null,
      "outputs": [
        {
          "output_type": "execute_result",
          "data": {
            "text/plain": [
              "<dimod.constrained.constrained.ConstrainedQuadraticModel at 0x7fb7a387b1c0>"
            ]
          },
          "metadata": {},
          "execution_count": 127
        }
      ]
    },
    {
      "cell_type": "code",
      "source": [
        "\n",
        "\n",
        "# Update the offset of the QUBO problem\n",
        "#bqm.offset += sum(c.values())\n",
        "\n",
        "# Set up the D-Wave sampler and sampler parameters\n",
        "sampler = EmbeddingComposite(DWaveSampler(token=os.environ['DWAVE_API_TOKEN']))\n",
        "num_reads = 1000\n",
        "chain_strength = 9\n",
        "\n",
        "# Solve the QUBO problem on the D-Wave system\n",
        "#response = sampler.sample(bqm, num_reads=num_reads, chain_strength=chain_strength, answer_mode=\"raw\")\n",
        "response = sampler.sample(cqm, num_reads=100)"
      ],
      "metadata": {
        "colab": {
          "base_uri": "https://localhost:8080/",
          "height": 347
        },
        "id": "Ir_wPUKwMFf1",
        "outputId": "c9f4fa2f-514f-4d4d-f4c6-ef66aee3f411"
      },
      "execution_count": null,
      "outputs": [
        {
          "output_type": "error",
          "ename": "AttributeError",
          "evalue": "ignored",
          "traceback": [
            "\u001b[0;31m---------------------------------------------------------------------------\u001b[0m",
            "\u001b[0;31mAttributeError\u001b[0m                            Traceback (most recent call last)",
            "\u001b[0;32m<ipython-input-128-a41378c801c0>\u001b[0m in \u001b[0;36m<cell line: 11>\u001b[0;34m()\u001b[0m\n\u001b[1;32m      9\u001b[0m \u001b[0;31m# Solve the QUBO problem on the D-Wave system\u001b[0m\u001b[0;34m\u001b[0m\u001b[0;34m\u001b[0m\u001b[0m\n\u001b[1;32m     10\u001b[0m \u001b[0;31m#response = sampler.sample(bqm, num_reads=num_reads, chain_strength=chain_strength, answer_mode=\"raw\")\u001b[0m\u001b[0;34m\u001b[0m\u001b[0;34m\u001b[0m\u001b[0m\n\u001b[0;32m---> 11\u001b[0;31m \u001b[0mresponse\u001b[0m \u001b[0;34m=\u001b[0m \u001b[0msampler\u001b[0m\u001b[0;34m.\u001b[0m\u001b[0msample\u001b[0m\u001b[0;34m(\u001b[0m\u001b[0mcqm\u001b[0m\u001b[0;34m,\u001b[0m \u001b[0mnum_reads\u001b[0m\u001b[0;34m=\u001b[0m\u001b[0;36m100\u001b[0m\u001b[0;34m)\u001b[0m\u001b[0;34m\u001b[0m\u001b[0;34m\u001b[0m\u001b[0m\n\u001b[0m",
            "\u001b[0;32m/usr/local/lib/python3.10/dist-packages/dwave/system/composites/embedding.py\u001b[0m in \u001b[0;36msample\u001b[0;34m(self, bqm, chain_strength, chain_break_method, chain_break_fraction, embedding_parameters, return_embedding, warnings, **parameters)\u001b[0m\n\u001b[1;32m    219\u001b[0m \u001b[0;34m\u001b[0m\u001b[0m\n\u001b[1;32m    220\u001b[0m         \u001b[0;31m# add self-loops to edgelist to handle singleton variables\u001b[0m\u001b[0;34m\u001b[0m\u001b[0;34m\u001b[0m\u001b[0m\n\u001b[0;32m--> 221\u001b[0;31m         \u001b[0msource_edgelist\u001b[0m \u001b[0;34m=\u001b[0m \u001b[0mlist\u001b[0m\u001b[0;34m(\u001b[0m\u001b[0mbqm\u001b[0m\u001b[0;34m.\u001b[0m\u001b[0mquadratic\u001b[0m\u001b[0;34m)\u001b[0m \u001b[0;34m+\u001b[0m \u001b[0;34m[\u001b[0m\u001b[0;34m(\u001b[0m\u001b[0mv\u001b[0m\u001b[0;34m,\u001b[0m \u001b[0mv\u001b[0m\u001b[0;34m)\u001b[0m \u001b[0;32mfor\u001b[0m \u001b[0mv\u001b[0m \u001b[0;32min\u001b[0m \u001b[0mbqm\u001b[0m\u001b[0;34m.\u001b[0m\u001b[0mlinear\u001b[0m\u001b[0;34m]\u001b[0m\u001b[0;34m\u001b[0m\u001b[0;34m\u001b[0m\u001b[0m\n\u001b[0m\u001b[1;32m    222\u001b[0m \u001b[0;34m\u001b[0m\u001b[0m\n\u001b[1;32m    223\u001b[0m         \u001b[0;31m# get the embedding\u001b[0m\u001b[0;34m\u001b[0m\u001b[0;34m\u001b[0m\u001b[0m\n",
            "\u001b[0;31mAttributeError\u001b[0m: 'ConstrainedQuadraticModel' object has no attribute 'quadratic'"
          ]
        }
      ]
    },
    {
      "cell_type": "code",
      "source": [
        "response.record\n",
        "response.first"
      ],
      "metadata": {
        "colab": {
          "base_uri": "https://localhost:8080/"
        },
        "id": "hXojh5CTREi3",
        "outputId": "9559fef3-239d-478b-c9f7-bc42ef07d478"
      },
      "execution_count": null,
      "outputs": [
        {
          "output_type": "execute_result",
          "data": {
            "text/plain": [
              "Sample(sample={1: 0, 2: 1, 3: 1, 4: 0, 5: 1}, energy=-5.0, num_occurrences=21, chain_break_fraction=0.0)"
            ]
          },
          "metadata": {},
          "execution_count": 47
        }
      ]
    },
    {
      "cell_type": "code",
      "source": [
        "# Print the solutions and their energies\n",
        "#for sample, energy in response.data(['sample', 'energy']):\n",
        "    #print(sample, energy)\n",
        "\n",
        "# Iterate through the solutions from the D-Wave sampler\n",
        "for sample, energy in response.data(['sample', 'energy']):\n",
        "    # Check if the solution satisfies the reliability constraint\n",
        "    total_power = sum(sample[i] * E[i] for i in range(n))\n",
        "    if total_power >= D:\n",
        "        # Calculate the cost\n",
        "        total_cost = sum(sample[i] * C[i] for i in range(n))\n",
        "        # Check if the cost is lower and update the best solution if necessary\n",
        "        if total_cost < dwave_best_cost:\n",
        "            dwave_best_solution = sample\n",
        "            dwave_best_cost = total_cost\n",
        "\n",
        "\n",
        "print(\"D-Wave Best Solution:\", dwave_best_solution)\n",
        "print(\"D-Wave Cost:\", dwave_best_cost)"
      ],
      "metadata": {
        "id": "Yrj7oHHXQ3TW"
      },
      "execution_count": null,
      "outputs": []
    },
    {
      "cell_type": "code",
      "source": [
        "import dimod\n",
        "from dwave.system import DWaveSampler, EmbeddingComposite\n",
        "import itertools\n",
        "\n",
        "# Define the SUC problem parameters\n",
        "n = 3  # number of power plants\n",
        "D = 5  # demand\n",
        "p = 0.9  # reliability threshold\n",
        "E = [1, 2, 3]  # efficiency of power plants\n",
        "C = [3, 4, 5]  # cost of power plants\n",
        "\n",
        "# Define the QUBO problem parameters\n",
        "q = {(i, j): 0 for i in range(n) for j in range(n)}\n",
        "c = {i: 0 for i in range(n)}\n",
        "\n",
        "# Define the QUBO objective function\n",
        "for i in range(n):\n",
        "    q[(i, i)] += C[i]\n",
        "    for j in range(i + 1, n):\n",
        "        q[(i, j)] += E[i] * E[j]\n",
        "    c[i] += C[i]\n",
        "\n",
        "# Define the power plant combinations\n",
        "combinations = list(itertools.product([0, 1], repeat=n))\n",
        "\n",
        "# Initialize the best solution and its cost from the classical algorithm\n",
        "classical_best_solution = None\n",
        "classical_best_cost = float('inf')\n",
        "\n",
        "# Iterate through all possible solutions using the classical algorithm\n",
        "for combination in combinations:\n",
        "    # Calculate the total power and cost\n",
        "    total_power = sum(combination[i] * E[i] for i in range(n))\n",
        "    total_cost = sum(combination[i] * C[i] for i in range(n))\n",
        "\n",
        "    # Check if the reliability constraint is satisfied\n",
        "    if total_power >= D:\n",
        "        # Check if the cost is lower and update the best solution if necessary\n",
        "        if total_cost < classical_best_cost:\n",
        "            classical_best_solution = combination\n",
        "            classical_best_cost = total_cost\n",
        "\n",
        "# Set up the D-Wave sampler and sampler parameters\n",
        "sampler = EmbeddingComposite(DWaveSampler(token=os.environ['DWAVE_API_TOKEN']))\n",
        "num_reads = 1000\n",
        "chain_strength = 2\n",
        "\n",
        "# Solve the QUBO problem on the D-Wave system\n",
        "response = sampler.sample_qubo(q, num_reads=num_reads, chain_strength=chain_strength)\n",
        "\n",
        "# Initialize the best solution and its cost from the D-Wave sampler\n",
        "dwave_best_solution = None\n",
        "dwave_best_cost = float('inf')\n",
        "\n",
        "# Iterate through the solutions from the D-Wave sampler\n",
        "for sample, energy in response.data(['sample', 'energy']):\n",
        "    # Check if the solution satisfies the reliability constraint\n",
        "    total_power = sum(sample[i] * E[i] for i in range(n))\n",
        "    if total_power >= D:\n",
        "        # Calculate the cost\n",
        "        total_cost = sum(sample[i] * C[i] for i in range(n))\n",
        "        # Check if the cost is lower and update the best solution if necessary\n",
        "        if total_cost < dwave_best_cost:\n",
        "            dwave_best_solution = sample\n",
        "            dwave_best_cost = total_cost\n",
        "\n",
        "# Print the best solutions and their costs\n",
        "print(\"Classical Best Solution:\", classical_best_solution)\n",
        "print(\"Classical Cost:\", classical_best_cost)\n",
        "print(\"D-Wave Best Solution:\", dwave_best_solution)\n",
        "print(\"D-Wave Cost:\", dwave_best_cost)\n"
      ],
      "metadata": {
        "colab": {
          "base_uri": "https://localhost:8080/"
        },
        "id": "7rD9HIV1Kuyb",
        "outputId": "fabb21c5-f7f6-40d3-d64a-613914d0c6eb"
      },
      "execution_count": null,
      "outputs": [
        {
          "output_type": "stream",
          "name": "stdout",
          "text": [
            "Classical Best Solution: (0, 1, 1)\n",
            "Classical Cost: 9\n",
            "D-Wave Best Solution: None\n",
            "D-Wave Cost: inf\n"
          ]
        }
      ]
    },
    {
      "cell_type": "markdown",
      "source": [
        "# Alternating Direction method of Multipliers"
      ],
      "metadata": {
        "id": "Oaal_tiZBKfI"
      }
    },
    {
      "cell_type": "code",
      "source": [
        "import numpy as np\n",
        "from scipy.optimize import minimize\n",
        "\n",
        "# Define the QUBO objective function\n",
        "def qubo_objective(x, Q):\n",
        "    return 0.5 * np.dot(x, np.dot(Q, x))\n",
        "\n",
        "# Define the constraint function\n",
        "def constraint(x, A, b):\n",
        "    return np.dot(A, x) - b\n",
        "\n",
        "# Define the ADMM algorithm\n",
        "def admm(Q, A, b, rho, max_iter):\n",
        "    n = Q.shape[0]  # Number of variables\n",
        "    m = A.shape[0]  # Number of constraints\n",
        "\n",
        "    # Initialize variables\n",
        "    x = np.zeros(n)\n",
        "    y = np.zeros(m)\n",
        "    z = np.zeros(m)\n",
        "    \n",
        "    # ADMM iterations\n",
        "    for k in range(max_iter):\n",
        "        # Update x\n",
        "        Q_hat = Q + rho * np.dot(A.T, A)\n",
        "        c = -np.dot(Q, x) - rho * (np.dot(A.T, (y - z)))\n",
        "        x = minimize(qubo_objective, x0=x, args=(Q_hat,), constraints={'type': 'eq', 'fun': constraint, 'args': (A, b)}, jac=False).x\n",
        "        \n",
        "        # Update y\n",
        "        y = np.maximum(0, np.dot(A, x) + z)\n",
        "        \n",
        "        # Update z\n",
        "        z = z + np.dot(A, x) - y\n",
        "        \n",
        "    return x\n",
        "\n",
        "# Example QUBO problem\n",
        "Q = np.array([[1, -1, 0],\n",
        "              [-1, 2, -1],\n",
        "              [0, -1, 1]])\n",
        "\n",
        "# Example constraints\n",
        "A = np.array([[1, 1, 1]])\n",
        "b = np.array([1])\n",
        "\n",
        "# Set ADMM parameters\n",
        "rho = 1\n",
        "max_iter = 100\n",
        "\n",
        "# Solve the QUBO problem using ADMM\n",
        "solution = admm(Q, A, b, rho, max_iter)\n",
        "\n",
        "# Print the solution\n",
        "print(\"Solution:\", solution)\n"
      ],
      "metadata": {
        "colab": {
          "base_uri": "https://localhost:8080/"
        },
        "id": "fQniWTrchGT7",
        "outputId": "a2ee0840-83e1-4b0c-a095-cba5fbb10d6c"
      },
      "execution_count": null,
      "outputs": [
        {
          "output_type": "stream",
          "name": "stdout",
          "text": [
            "Solution: [0.33333333 0.33333334 0.33333333]\n"
          ]
        }
      ]
    },
    {
      "cell_type": "code",
      "source": [
        "import numpy as np\n",
        "import dimod\n",
        "from dwave.system import DWaveSampler, EmbeddingComposite\n",
        "\n",
        "# Define the SUC problem parameters\n",
        "n = 3  # number of power plants\n",
        "D = 5  # demand\n",
        "p = 0.9  # reliability threshold\n",
        "E = [1, 2, 3]  # efficiency of power plants\n",
        "C = [3, 4, 5]  # cost of power plants\n",
        "\n",
        "# Define the QUBO problem parameters\n",
        "Q = np.zeros((n, n))\n",
        "c = np.zeros(n)\n",
        "\n",
        "# Define the QUBO objective function\n",
        "for i in range(n):\n",
        "    Q[i, i] += C[i]\n",
        "    for j in range(i + 1, n):\n",
        "        Q[i, j] += E[i] * E[j]\n",
        "    c[i] += C[i]\n",
        "\n",
        "# Define the ADMM function\n",
        "def admm(Q, A, b, rho, max_iter):\n",
        "    n = Q.shape[0]  # Number of variables\n",
        "    m = A.shape[0]  # Number of constraints\n",
        "\n",
        "    # Initialize variables\n",
        "    x = np.zeros(n)\n",
        "    y = np.zeros(m)\n",
        "    z = np.zeros(m)\n",
        "    \n",
        "    # ADMM iterations\n",
        "    for k in range(max_iter):\n",
        "        # Update x\n",
        "        Q_hat = Q + rho * np.dot(A.T, A)\n",
        "        c = -np.dot(Q, x) - rho * (np.dot(A.T, (y - z)))\n",
        "        x = minimize(qubo_objective, x0=x, args=(Q_hat,), constraints={'type': 'eq', 'fun': constraint, 'args': (A, b)}, jac=False).x\n",
        "        \n",
        "        # Update y\n",
        "        y = np.maximum(0, np.dot(A, x) + z)\n",
        "        \n",
        "        # Update z\n",
        "        z = z + np.dot(A, x) - y\n",
        "        \n",
        "    return x\n",
        "    \n",
        "# Define the equality constraint matrix A and the constraint vector b\n",
        "A = np.array([[1, 1, 1]])\n",
        "b = np.array([D])\n",
        "\n",
        "# Set the ADMM parameters\n",
        "rho = 1\n",
        "max_iter = 100\n",
        "\n",
        "# Solve the QUBO problem using ADMM\n",
        "solution = admm(Q, A, b, rho, max_iter)\n",
        "\n",
        "# Print the solution\n",
        "print(\"Solution:\", solution)"
      ],
      "metadata": {
        "colab": {
          "base_uri": "https://localhost:8080/"
        },
        "id": "NG-0rDvXG71M",
        "outputId": "f49e570d-0a7e-4d3a-8af5-fc0055b6ca44"
      },
      "execution_count": null,
      "outputs": [
        {
          "output_type": "stream",
          "name": "stdout",
          "text": [
            "Solution: [2.94113352 1.86277065 0.19609584]\n"
          ]
        }
      ]
    },
    {
      "cell_type": "code",
      "source": [],
      "metadata": {
        "id": "QQYZq3QJKFZs"
      },
      "execution_count": null,
      "outputs": []
    }
  ]
}